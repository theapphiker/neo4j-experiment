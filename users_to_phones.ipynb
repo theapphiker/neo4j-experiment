{
 "cells": [
  {
   "cell_type": "code",
   "execution_count": 10,
   "id": "554def19-29be-43e4-a904-503f537f875a",
   "metadata": {},
   "outputs": [],
   "source": [
    "# create a relationship csv to connect users to phones"
   ]
  },
  {
   "cell_type": "code",
   "execution_count": 11,
   "id": "a7fc3da5-4c78-42a2-8800-ca411de82ded",
   "metadata": {},
   "outputs": [],
   "source": [
    "import pandas as pd"
   ]
  },
  {
   "cell_type": "code",
   "execution_count": 12,
   "id": "c57b23fc-cd5e-4eec-b806-12e5cd2eaf90",
   "metadata": {},
   "outputs": [],
   "source": [
    "users_df = pd.read_csv('users.csv')"
   ]
  },
  {
   "cell_type": "code",
   "execution_count": 13,
   "id": "de1391ef-5574-497f-af55-ac6a29f85c13",
   "metadata": {},
   "outputs": [],
   "source": [
    "phones = pd.read_csv('phone_nodes.csv', index_col=0)"
   ]
  },
  {
   "cell_type": "code",
   "execution_count": 14,
   "id": "f264fad1-c99b-43c9-9225-4dd4a09f175d",
   "metadata": {},
   "outputs": [
    {
     "data": {
      "text/html": [
       "<div>\n",
       "<style scoped>\n",
       "    .dataframe tbody tr th:only-of-type {\n",
       "        vertical-align: middle;\n",
       "    }\n",
       "\n",
       "    .dataframe tbody tr th {\n",
       "        vertical-align: top;\n",
       "    }\n",
       "\n",
       "    .dataframe thead th {\n",
       "        text-align: right;\n",
       "    }\n",
       "</style>\n",
       "<table border=\"1\" class=\"dataframe\">\n",
       "  <thead>\n",
       "    <tr style=\"text-align: right;\">\n",
       "      <th></th>\n",
       "      <th>identifier</th>\n",
       "      <th>type</th>\n",
       "    </tr>\n",
       "  </thead>\n",
       "  <tbody>\n",
       "    <tr>\n",
       "      <th>0</th>\n",
       "      <td>80761012916</td>\n",
       "      <td>phone</td>\n",
       "    </tr>\n",
       "    <tr>\n",
       "      <th>1</th>\n",
       "      <td>80799255509</td>\n",
       "      <td>phone</td>\n",
       "    </tr>\n",
       "    <tr>\n",
       "      <th>2</th>\n",
       "      <td>80799433482</td>\n",
       "      <td>phone</td>\n",
       "    </tr>\n",
       "    <tr>\n",
       "      <th>3</th>\n",
       "      <td>80788009910</td>\n",
       "      <td>phone</td>\n",
       "    </tr>\n",
       "    <tr>\n",
       "      <th>4</th>\n",
       "      <td>80765948263</td>\n",
       "      <td>phone</td>\n",
       "    </tr>\n",
       "  </tbody>\n",
       "</table>\n",
       "</div>"
      ],
      "text/plain": [
       "    identifier   type\n",
       "0  80761012916  phone\n",
       "1  80799255509  phone\n",
       "2  80799433482  phone\n",
       "3  80788009910  phone\n",
       "4  80765948263  phone"
      ]
     },
     "execution_count": 14,
     "metadata": {},
     "output_type": "execute_result"
    }
   ],
   "source": [
    "phones.head()"
   ]
  },
  {
   "cell_type": "code",
   "execution_count": 15,
   "id": "57e9868a-b045-4219-a477-5347182b2060",
   "metadata": {},
   "outputs": [],
   "source": [
    "user_phone_df = pd.DataFrame({'full_name':users_df['full_name'],\n",
    "                             'birthday':users_df['birthday'],\n",
    "                             'identifier':phones['identifier'],\n",
    "                             'type':phones['type']})"
   ]
  },
  {
   "cell_type": "code",
   "execution_count": 18,
   "id": "2bece287-a429-4d68-8fdf-7e4a15916899",
   "metadata": {},
   "outputs": [],
   "source": [
    "user_phone_df['collection'] = 'Random_database'"
   ]
  },
  {
   "cell_type": "code",
   "execution_count": 19,
   "id": "19944fe6-384c-4a02-bc34-7d2cceb20039",
   "metadata": {},
   "outputs": [],
   "source": [
    "user_phone_df.to_csv('phones_users_v1.csv')"
   ]
  },
  {
   "cell_type": "code",
   "execution_count": null,
   "id": "321f0fa0-5539-4e33-9c77-315acd69abb7",
   "metadata": {},
   "outputs": [],
   "source": []
  }
 ],
 "metadata": {
  "kernelspec": {
   "display_name": "Python 3 (ipykernel)",
   "language": "python",
   "name": "python3"
  },
  "language_info": {
   "codemirror_mode": {
    "name": "ipython",
    "version": 3
   },
   "file_extension": ".py",
   "mimetype": "text/x-python",
   "name": "python",
   "nbconvert_exporter": "python",
   "pygments_lexer": "ipython3",
   "version": "3.12.5"
  }
 },
 "nbformat": 4,
 "nbformat_minor": 5
}
