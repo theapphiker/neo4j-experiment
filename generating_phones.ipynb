{
 "cells": [
  {
   "cell_type": "code",
   "execution_count": 1,
   "id": "14a03939-5a91-4ef0-9878-12eb4042918e",
   "metadata": {},
   "outputs": [],
   "source": [
    "# This notebook generates 50,000 fake phone number nodes and 100,000 relationships between phones to use as data in a Neo4j graph."
   ]
  },
  {
   "cell_type": "code",
   "execution_count": 1,
   "id": "34d20ec1-1b80-4294-b183-36342774ee19",
   "metadata": {},
   "outputs": [],
   "source": [
    "import pandas as pd\n",
    "import random\n",
    "import datetime"
   ]
  },
  {
   "cell_type": "code",
   "execution_count": 3,
   "id": "26c9f326-f00e-4e4e-a4ea-2c34b6150e54",
   "metadata": {},
   "outputs": [],
   "source": [
    "numbers = []"
   ]
  },
  {
   "cell_type": "code",
   "execution_count": 4,
   "id": "6016c4da-8bc6-44e3-898a-acdfcc09c212",
   "metadata": {},
   "outputs": [],
   "source": [
    "# generate 50,000 fake numbers\n",
    "while len(numbers) < 50000:\n",
    "    fake_num = '807' # 847 is a country calling code that is not in use\n",
    "    for i in range(8):\n",
    "        fake_num += str(random.randint(0,9))\n",
    "    if fake_num in numbers:\n",
    "        continue\n",
    "    else:\n",
    "        numbers.append(fake_num)"
   ]
  },
  {
   "cell_type": "code",
   "execution_count": 24,
   "id": "711b51e2-0270-4541-842d-6477973acc18",
   "metadata": {},
   "outputs": [],
   "source": [
    "phones_dict = {'identifier':numbers, 'type':['phone'] * 50000}"
   ]
  },
  {
   "cell_type": "code",
   "execution_count": 25,
   "id": "457e248c-e441-479c-afca-bea505a3216f",
   "metadata": {},
   "outputs": [],
   "source": [
    "phones_df = pd.DataFrame(phones_dict)"
   ]
  },
  {
   "cell_type": "code",
   "execution_count": 26,
   "id": "8f583ee8-6ccf-441a-9f0c-70bdc77bec4d",
   "metadata": {},
   "outputs": [
    {
     "data": {
      "text/html": [
       "<div>\n",
       "<style scoped>\n",
       "    .dataframe tbody tr th:only-of-type {\n",
       "        vertical-align: middle;\n",
       "    }\n",
       "\n",
       "    .dataframe tbody tr th {\n",
       "        vertical-align: top;\n",
       "    }\n",
       "\n",
       "    .dataframe thead th {\n",
       "        text-align: right;\n",
       "    }\n",
       "</style>\n",
       "<table border=\"1\" class=\"dataframe\">\n",
       "  <thead>\n",
       "    <tr style=\"text-align: right;\">\n",
       "      <th></th>\n",
       "      <th>identifier</th>\n",
       "      <th>type</th>\n",
       "    </tr>\n",
       "  </thead>\n",
       "  <tbody>\n",
       "    <tr>\n",
       "      <th>0</th>\n",
       "      <td>80761012916</td>\n",
       "      <td>phone</td>\n",
       "    </tr>\n",
       "    <tr>\n",
       "      <th>1</th>\n",
       "      <td>80799255509</td>\n",
       "      <td>phone</td>\n",
       "    </tr>\n",
       "    <tr>\n",
       "      <th>2</th>\n",
       "      <td>80799433482</td>\n",
       "      <td>phone</td>\n",
       "    </tr>\n",
       "    <tr>\n",
       "      <th>3</th>\n",
       "      <td>80788009910</td>\n",
       "      <td>phone</td>\n",
       "    </tr>\n",
       "    <tr>\n",
       "      <th>4</th>\n",
       "      <td>80765948263</td>\n",
       "      <td>phone</td>\n",
       "    </tr>\n",
       "  </tbody>\n",
       "</table>\n",
       "</div>"
      ],
      "text/plain": [
       "    identifier   type\n",
       "0  80761012916  phone\n",
       "1  80799255509  phone\n",
       "2  80799433482  phone\n",
       "3  80788009910  phone\n",
       "4  80765948263  phone"
      ]
     },
     "execution_count": 26,
     "metadata": {},
     "output_type": "execute_result"
    }
   ],
   "source": [
    "phones_df.head()"
   ]
  },
  {
   "cell_type": "code",
   "execution_count": 27,
   "id": "f86b91dd-49fd-4943-9df1-5efccc3d414e",
   "metadata": {},
   "outputs": [],
   "source": [
    "phones_df.to_csv('phone_nodes.csv')"
   ]
  },
  {
   "cell_type": "code",
   "execution_count": 30,
   "id": "921f7304-9c5e-40bd-b49c-80d87005e99e",
   "metadata": {},
   "outputs": [],
   "source": [
    "comms = []"
   ]
  },
  {
   "cell_type": "code",
   "execution_count": 31,
   "id": "47d4f6bf-2287-47a0-b871-ddabde13c3e2",
   "metadata": {},
   "outputs": [],
   "source": [
    "# generate random sources and targets for the phone communications\n",
    "while len(comms) < 100000:\n",
    "    a = phones_df['identifier'][random.randint(0,len(phones_df['identifier']) - 1)]\n",
    "    b = phones_df['identifier'][random.randint(0,len(phones_df['identifier']) - 1)]\n",
    "    if a == b:\n",
    "        continue\n",
    "    else:\n",
    "        comms.append((a, b))"
   ]
  },
  {
   "cell_type": "code",
   "execution_count": 49,
   "id": "d4ab1c5f-9204-44b4-96e9-7ac2216ff7f7",
   "metadata": {},
   "outputs": [],
   "source": [
    "comms_df = pd.DataFrame(comms, columns = [\"source\", \"target\"])"
   ]
  },
  {
   "cell_type": "code",
   "execution_count": 50,
   "id": "a3f56b23-4b97-472a-87f4-e92feecb2d0a",
   "metadata": {},
   "outputs": [],
   "source": [
    "comms_df[\"source_type\"] = \"phone\""
   ]
  },
  {
   "cell_type": "code",
   "execution_count": 51,
   "id": "bb592517-ca79-413c-93e1-c658efdad621",
   "metadata": {},
   "outputs": [],
   "source": [
    "comms_df[\"target_type\"] = \"phone\""
   ]
  },
  {
   "cell_type": "code",
   "execution_count": 57,
   "id": "4ff4e0eb-4e0c-422c-87e4-ed642c5b7c79",
   "metadata": {},
   "outputs": [],
   "source": [
    "dates = []"
   ]
  },
  {
   "cell_type": "code",
   "execution_count": 58,
   "id": "c1a3fdad-7a55-4d65-b23d-762aeac36daf",
   "metadata": {},
   "outputs": [],
   "source": [
    "# generate random dates for first_seen and last_seen\n",
    "for i in comms_df.index:\n",
    "    first_seen = datetime.date(random.randint(2017,2024), random.randint(1,12),random.randint(1,27))\n",
    "    last_seen = datetime.date(random.randint(first_seen.year,2024), random.randint(first_seen.month,12),random.randint(first_seen.day + 1,28))\n",
    "    first_seen = first_seen.strftime('%Y-%m-%d')\n",
    "    last_seen = last_seen.strftime('%Y-%m-%d')\n",
    "    dates.append((first_seen, last_seen))"
   ]
  },
  {
   "cell_type": "code",
   "execution_count": 62,
   "id": "3f4f7c8f-090a-49dd-a6a8-779c7eeba5bc",
   "metadata": {},
   "outputs": [],
   "source": [
    "comms_df['first_seen'] = [x[0] for x in dates]"
   ]
  },
  {
   "cell_type": "code",
   "execution_count": 63,
   "id": "a49b5874-ef5f-4b6d-a56c-841f5319079b",
   "metadata": {},
   "outputs": [],
   "source": [
    "comms_df['last_seen'] = [x[1] for x in dates]"
   ]
  },
  {
   "cell_type": "code",
   "execution_count": 69,
   "id": "d81026d9-71cb-49f2-8259-692d5a05c3a7",
   "metadata": {},
   "outputs": [],
   "source": [
    "# generate random number of communications\n",
    "comms_df['times'] = [random.randint(2, 500) for i in range(len(comms_df))]"
   ]
  },
  {
   "cell_type": "code",
   "execution_count": 70,
   "id": "53b89a56-c8d5-492a-8ed7-eb3e23931dc7",
   "metadata": {},
   "outputs": [],
   "source": [
    "comms_df['collection'] = 'A1'"
   ]
  },
  {
   "cell_type": "code",
   "execution_count": 71,
   "id": "adaed712-a595-4805-9018-5d3bfa710c45",
   "metadata": {},
   "outputs": [
    {
     "data": {
      "text/html": [
       "<div>\n",
       "<style scoped>\n",
       "    .dataframe tbody tr th:only-of-type {\n",
       "        vertical-align: middle;\n",
       "    }\n",
       "\n",
       "    .dataframe tbody tr th {\n",
       "        vertical-align: top;\n",
       "    }\n",
       "\n",
       "    .dataframe thead th {\n",
       "        text-align: right;\n",
       "    }\n",
       "</style>\n",
       "<table border=\"1\" class=\"dataframe\">\n",
       "  <thead>\n",
       "    <tr style=\"text-align: right;\">\n",
       "      <th></th>\n",
       "      <th>source</th>\n",
       "      <th>target</th>\n",
       "      <th>source_type</th>\n",
       "      <th>target_type</th>\n",
       "      <th>first_seen</th>\n",
       "      <th>last_seen</th>\n",
       "      <th>times</th>\n",
       "      <th>collection</th>\n",
       "    </tr>\n",
       "  </thead>\n",
       "  <tbody>\n",
       "    <tr>\n",
       "      <th>0</th>\n",
       "      <td>80721253938</td>\n",
       "      <td>80750554110</td>\n",
       "      <td>phone</td>\n",
       "      <td>phone</td>\n",
       "      <td>2018-10-24</td>\n",
       "      <td>2019-12-26</td>\n",
       "      <td>290</td>\n",
       "      <td>A1</td>\n",
       "    </tr>\n",
       "    <tr>\n",
       "      <th>1</th>\n",
       "      <td>80743835363</td>\n",
       "      <td>80744600663</td>\n",
       "      <td>phone</td>\n",
       "      <td>phone</td>\n",
       "      <td>2024-09-23</td>\n",
       "      <td>2024-10-27</td>\n",
       "      <td>199</td>\n",
       "      <td>A1</td>\n",
       "    </tr>\n",
       "    <tr>\n",
       "      <th>2</th>\n",
       "      <td>80781538605</td>\n",
       "      <td>80721673418</td>\n",
       "      <td>phone</td>\n",
       "      <td>phone</td>\n",
       "      <td>2022-06-05</td>\n",
       "      <td>2023-09-12</td>\n",
       "      <td>422</td>\n",
       "      <td>A1</td>\n",
       "    </tr>\n",
       "    <tr>\n",
       "      <th>3</th>\n",
       "      <td>80723004597</td>\n",
       "      <td>80725581062</td>\n",
       "      <td>phone</td>\n",
       "      <td>phone</td>\n",
       "      <td>2019-08-13</td>\n",
       "      <td>2019-09-18</td>\n",
       "      <td>272</td>\n",
       "      <td>A1</td>\n",
       "    </tr>\n",
       "    <tr>\n",
       "      <th>4</th>\n",
       "      <td>80725554752</td>\n",
       "      <td>80763351626</td>\n",
       "      <td>phone</td>\n",
       "      <td>phone</td>\n",
       "      <td>2023-03-11</td>\n",
       "      <td>2024-04-16</td>\n",
       "      <td>249</td>\n",
       "      <td>A1</td>\n",
       "    </tr>\n",
       "  </tbody>\n",
       "</table>\n",
       "</div>"
      ],
      "text/plain": [
       "        source       target source_type target_type  first_seen   last_seen  \\\n",
       "0  80721253938  80750554110       phone       phone  2018-10-24  2019-12-26   \n",
       "1  80743835363  80744600663       phone       phone  2024-09-23  2024-10-27   \n",
       "2  80781538605  80721673418       phone       phone  2022-06-05  2023-09-12   \n",
       "3  80723004597  80725581062       phone       phone  2019-08-13  2019-09-18   \n",
       "4  80725554752  80763351626       phone       phone  2023-03-11  2024-04-16   \n",
       "\n",
       "   times collection  \n",
       "0    290         A1  \n",
       "1    199         A1  \n",
       "2    422         A1  \n",
       "3    272         A1  \n",
       "4    249         A1  "
      ]
     },
     "execution_count": 71,
     "metadata": {},
     "output_type": "execute_result"
    }
   ],
   "source": [
    "comms_df.head()"
   ]
  },
  {
   "cell_type": "code",
   "execution_count": 72,
   "id": "44e39875-0cbe-4e23-b429-0ad33ef74be4",
   "metadata": {},
   "outputs": [],
   "source": [
    "comms_df.to_csv(\"phone_relationships_v1.csv\")"
   ]
  },
  {
   "cell_type": "code",
   "execution_count": 4,
   "id": "0a15a07b-ea45-4bfc-b2ed-ac5aed594362",
   "metadata": {},
   "outputs": [],
   "source": [
    "comms_df = pd.read_csv(\"data//phone_relationships_v1.csv\", index_col = 0)"
   ]
  },
  {
   "cell_type": "code",
   "execution_count": 22,
   "id": "5275a3ff-d123-464c-84ff-74e688100195",
   "metadata": {},
   "outputs": [],
   "source": [
    "new_comms_df = pd.DataFrame(comms_df[:5])"
   ]
  },
  {
   "cell_type": "code",
   "execution_count": 23,
   "id": "5f888b83-ee77-46a6-8539-87e671f908aa",
   "metadata": {},
   "outputs": [],
   "source": [
    "# updating comms with new comms\n",
    "new_last_seen = []\n",
    "for date_1 in new_comms_df['last_seen']:\n",
    "    start_date = datetime.datetime.strptime(date_1, \"%Y-%m-%d\")\n",
    "    end_date = start_date + datetime.timedelta(days=1)\n",
    "    new_last_seen.append(end_date.strftime(\"%Y-%m-%d\"))"
   ]
  },
  {
   "cell_type": "code",
   "execution_count": 24,
   "id": "c0279719-03e6-42c1-bd2a-b7ee2456d131",
   "metadata": {},
   "outputs": [],
   "source": [
    "new_comms_df['last_seen'] = new_last_seen"
   ]
  },
  {
   "cell_type": "code",
   "execution_count": 25,
   "id": "840cc484-dec9-4876-8682-190bf3114d8f",
   "metadata": {},
   "outputs": [],
   "source": [
    "new_times = [x + 1 for x in new_comms_df['times']]"
   ]
  },
  {
   "cell_type": "code",
   "execution_count": 26,
   "id": "0dcb3514-2e13-4018-9152-32b0756f4f91",
   "metadata": {},
   "outputs": [],
   "source": [
    "new_comms_df['times'] = new_times"
   ]
  },
  {
   "cell_type": "code",
   "execution_count": 28,
   "id": "9f55022c-91c1-4baf-8523-c9a2c88a5eca",
   "metadata": {},
   "outputs": [],
   "source": [
    "new_comms_df.to_csv(\"new_comms_update.csv\")"
   ]
  },
  {
   "cell_type": "code",
   "execution_count": null,
   "id": "a8a6a75a-1e10-419e-919d-4ff64e9eaef9",
   "metadata": {},
   "outputs": [],
   "source": []
  }
 ],
 "metadata": {
  "kernelspec": {
   "display_name": "Python 3 (ipykernel)",
   "language": "python",
   "name": "python3"
  },
  "language_info": {
   "codemirror_mode": {
    "name": "ipython",
    "version": 3
   },
   "file_extension": ".py",
   "mimetype": "text/x-python",
   "name": "python",
   "nbconvert_exporter": "python",
   "pygments_lexer": "ipython3",
   "version": "3.12.5"
  }
 },
 "nbformat": 4,
 "nbformat_minor": 5
}
