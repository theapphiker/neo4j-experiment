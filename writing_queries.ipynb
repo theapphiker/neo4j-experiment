{
 "cells": [
  {
   "cell_type": "code",
   "execution_count": 1,
   "id": "ecff0c79-4f88-4d04-b8b4-dc22392ce04b",
   "metadata": {},
   "outputs": [],
   "source": [
    "# This notebook writes data to the Neo4j graph."
   ]
  },
  {
   "cell_type": "code",
   "execution_count": 1,
   "id": "fb402506-513d-4951-9e32-9c4ee2ae6d73",
   "metadata": {},
   "outputs": [],
   "source": [
    "from neo4j import GraphDatabase"
   ]
  },
  {
   "cell_type": "code",
   "execution_count": 2,
   "id": "9823c640-f731-4c6a-a148-541e26f3da55",
   "metadata": {},
   "outputs": [],
   "source": [
    "uri = \"bolt://localhost:7687\"\n",
    "user = \"neo4j\"\n",
    "password = \"password\""
   ]
  },
  {
   "cell_type": "code",
   "execution_count": 3,
   "id": "454ef02d-622f-4e2d-8dba-021701100103",
   "metadata": {},
   "outputs": [],
   "source": [
    "driver = GraphDatabase.driver(uri, auth=(user, password))"
   ]
  },
  {
   "cell_type": "code",
   "execution_count": 4,
   "id": "3e7653e8-2867-4724-96c9-484921a99dcd",
   "metadata": {},
   "outputs": [],
   "source": [
    "session = driver.session()"
   ]
  },
  {
   "cell_type": "code",
   "execution_count": null,
   "id": "f3a3dbbb-01e0-4844-b6e4-84d6ef0c276c",
   "metadata": {},
   "outputs": [],
   "source": [
    "# loading phone nodes into graph; csv needs to be in graph's import folder\n",
    "session.run(\n",
    "    '''LOAD CSV WITH HEADERS FROM 'file:///phone_nodes.csv' AS row\n",
    "    WITH row\n",
    "    CALL {\n",
    "        WITH row\n",
    "        CREATE (:Identifier {\n",
    "            identifier: row.identifier,\n",
    "            type: row.type\n",
    "            })\n",
    "    };''')"
   ]
  },
  {
   "cell_type": "code",
   "execution_count": 11,
   "id": "c9c338cc-83fc-4fd6-8255-3c4bcb2f59d9",
   "metadata": {},
   "outputs": [
    {
     "data": {
      "text/plain": [
       "<neo4j._sync.work.result.Result at 0x1757667b380>"
      ]
     },
     "execution_count": 11,
     "metadata": {},
     "output_type": "execute_result"
    }
   ],
   "source": [
    "# create an index for phone identifiers\n",
    "session.run(\n",
    "    '''CREATE INDEX identifier_range_index FOR (i:Identifier) ON (i.identifier, i.type);''')"
   ]
  },
  {
   "cell_type": "code",
   "execution_count": 6,
   "id": "00f6f602-ed9c-409d-81d4-572439de51b4",
   "metadata": {},
   "outputs": [
    {
     "data": {
      "text/plain": [
       "<neo4j._sync.work.result.Result at 0x1f00bc4aab0>"
      ]
     },
     "execution_count": 6,
     "metadata": {},
     "output_type": "execute_result"
    }
   ],
   "source": [
    "# loading phone relationships into graph\n",
    "session.run(\n",
    "    '''LOAD CSV WITH HEADERS FROM 'file:///phone_relationships_v1.csv' AS row\n",
    "    WITH row\n",
    "    CALL {\n",
    "        WITH row\n",
    "        MATCH (a:Identifier), (b:Identifier) WHERE a.identifier = row.source and b.identifier = row.target\n",
    "        MERGE (a)-[:CONTACT {first_seen:row.first_seen, last_seen:row.last_seen, times:row.times, collection:row.collection}]->(b)\n",
    "    };''')"
   ]
  },
  {
   "cell_type": "code",
   "execution_count": 6,
   "id": "a3313eff-b6eb-4da5-a200-a6c92cbed1f4",
   "metadata": {},
   "outputs": [
    {
     "data": {
      "text/plain": [
       "<neo4j._sync.work.result.Result at 0x1757481aae0>"
      ]
     },
     "execution_count": 6,
     "metadata": {},
     "output_type": "execute_result"
    }
   ],
   "source": [
    "# loading person nodes into graph; csv needs to be in graph's import folder\n",
    "session.run(\n",
    "    '''LOAD CSV WITH HEADERS FROM 'file:///users.csv' AS row\n",
    "    WITH row\n",
    "    CALL {\n",
    "        WITH row\n",
    "        CREATE (:Person {\n",
    "            first_name: row.first_name,\n",
    "            last_name: row.last_name,\n",
    "            full_name: row.full_name,\n",
    "            birthday: row.birthday\n",
    "            })\n",
    "    };''')"
   ]
  },
  {
   "cell_type": "code",
   "execution_count": 8,
   "id": "4d58a948-9ce7-40ad-8d69-53e4aa28679b",
   "metadata": {},
   "outputs": [
    {
     "data": {
      "text/plain": [
       "<neo4j._sync.work.result.Result at 0x17570b6c710>"
      ]
     },
     "execution_count": 8,
     "metadata": {},
     "output_type": "execute_result"
    }
   ],
   "source": [
    "session.run('''\n",
    "CREATE INDEX person_index FOR (n:Person) ON (n.birthday, n.full_name)''')"
   ]
  },
  {
   "cell_type": "code",
   "execution_count": 13,
   "id": "2481f1bc-64b4-4b5c-943d-476502cf67b8",
   "metadata": {},
   "outputs": [
    {
     "data": {
      "text/plain": [
       "<neo4j._sync.work.result.Result at 0x175766c97f0>"
      ]
     },
     "execution_count": 13,
     "metadata": {},
     "output_type": "execute_result"
    }
   ],
   "source": [
    "# loading user-phone relationships into graph\n",
    "session.run(\n",
    "    '''LOAD CSV WITH HEADERS FROM 'file:///phones_users_v1.csv' AS row\n",
    "    WITH row\n",
    "    CALL {\n",
    "        WITH row\n",
    "        MATCH (p:Person), (i:Identifier) WHERE p.full_name = row.full_name AND p.birthday = row.birthday\n",
    "        AND i.identifier = row.identifier AND i.type = row.type\n",
    "        MERGE (p)-[:USER_OF {collection: row.collection}]->(i)\n",
    "    };''')"
   ]
  },
  {
   "cell_type": "code",
   "execution_count": 6,
   "id": "d11f63b2-0d9f-4de0-a3a8-cecb05662cc9",
   "metadata": {},
   "outputs": [
    {
     "data": {
      "text/plain": [
       "<neo4j._sync.work.result.Result at 0x25536140b30>"
      ]
     },
     "execution_count": 6,
     "metadata": {},
     "output_type": "execute_result"
    }
   ],
   "source": [
    "# update comms relation with new comms\n",
    "session.run(\n",
    "    '''LOAD CSV WITH HEADERS FROM 'file:///new_comms_update.csv' AS row\n",
    "    WITH row\n",
    "    CALL {\n",
    "    WITH row\n",
    "    MATCH (a:Identifier),(b:Identifier) WHERE a.identifier = row.source AND b.identifier = row.target\n",
    "    MERGE (a)-[c1:CONTACT]->(b)\n",
    "    ON CREATE SET c1.last_seen = row.last_seen,c1.times = row.times,c1.first_seen=row.first_seen,c1.collection=row.collection\n",
    "    ON MATCH SET c1.last_seen = row.last_seen,c1.times = row.times\n",
    "};''')"
   ]
  },
  {
   "cell_type": "code",
   "execution_count": null,
   "id": "2af7f0f3-3649-460d-8577-23f7021e23fe",
   "metadata": {},
   "outputs": [],
   "source": []
  }
 ],
 "metadata": {
  "kernelspec": {
   "display_name": "Python 3 (ipykernel)",
   "language": "python",
   "name": "python3"
  },
  "language_info": {
   "codemirror_mode": {
    "name": "ipython",
    "version": 3
   },
   "file_extension": ".py",
   "mimetype": "text/x-python",
   "name": "python",
   "nbconvert_exporter": "python",
   "pygments_lexer": "ipython3",
   "version": "3.12.5"
  }
 },
 "nbformat": 4,
 "nbformat_minor": 5
}
