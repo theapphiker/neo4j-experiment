{
 "cells": [
  {
   "cell_type": "code",
   "execution_count": null,
   "id": "ecff0c79-4f88-4d04-b8b4-dc22392ce04b",
   "metadata": {},
   "outputs": [],
   "source": [
    "# This notebook writes data to the Neo4j graph."
   ]
  },
  {
   "cell_type": "code",
   "execution_count": 1,
   "id": "fb402506-513d-4951-9e32-9c4ee2ae6d73",
   "metadata": {},
   "outputs": [],
   "source": [
    "from neo4j import GraphDatabase"
   ]
  },
  {
   "cell_type": "code",
   "execution_count": 2,
   "id": "9823c640-f731-4c6a-a148-541e26f3da55",
   "metadata": {},
   "outputs": [],
   "source": [
    "uri = \"bolt://localhost:7687\"\n",
    "user = \"neo4j\"\n",
    "password = \"password\""
   ]
  },
  {
   "cell_type": "code",
   "execution_count": 3,
   "id": "454ef02d-622f-4e2d-8dba-021701100103",
   "metadata": {},
   "outputs": [],
   "source": [
    "driver = GraphDatabase.driver(uri, auth=(user, password))"
   ]
  },
  {
   "cell_type": "code",
   "execution_count": 4,
   "id": "3e7653e8-2867-4724-96c9-484921a99dcd",
   "metadata": {},
   "outputs": [],
   "source": [
    "session = driver.session()"
   ]
  },
  {
   "cell_type": "code",
   "execution_count": null,
   "id": "f3a3dbbb-01e0-4844-b6e4-84d6ef0c276c",
   "metadata": {},
   "outputs": [],
   "source": [
    "# loading phone nodes into graph; csv needs to be in graph's import folder\n",
    "session.run(\n",
    "    '''LOAD CSV WITH HEADERS FROM 'file:///phone_nodes.csv' AS row\n",
    "    WITH row\n",
    "    CALL {\n",
    "        WITH row\n",
    "        CREATE (:Identifier {\n",
    "            identifier: row.identifier,\n",
    "            type: row.type\n",
    "            })\n",
    "    };''')"
   ]
  },
  {
   "cell_type": "code",
   "execution_count": 5,
   "id": "c9c338cc-83fc-4fd6-8255-3c4bcb2f59d9",
   "metadata": {},
   "outputs": [
    {
     "data": {
      "text/plain": [
       "<neo4j._sync.work.result.Result at 0x1f00bdd0b00>"
      ]
     },
     "execution_count": 5,
     "metadata": {},
     "output_type": "execute_result"
    }
   ],
   "source": [
    "# create an index for phone identifiers\n",
    "session.run(\n",
    "    '''CREATE INDEX identifier_range_index FOR (i:Identifier) ON (i.identifier);''')"
   ]
  },
  {
   "cell_type": "code",
   "execution_count": 6,
   "id": "00f6f602-ed9c-409d-81d4-572439de51b4",
   "metadata": {},
   "outputs": [
    {
     "data": {
      "text/plain": [
       "<neo4j._sync.work.result.Result at 0x1f00bc4aab0>"
      ]
     },
     "execution_count": 6,
     "metadata": {},
     "output_type": "execute_result"
    }
   ],
   "source": [
    "# loading phone relationships into graph\n",
    "session.run(\n",
    "    '''LOAD CSV WITH HEADERS FROM 'file:///phone_relationships_v1.csv' AS row\n",
    "    WITH row\n",
    "    CALL {\n",
    "        WITH row\n",
    "        MATCH (a:Identifier), (b:Identifier) WHERE a.identifier = row.source and b.identifier = row.target\n",
    "        MERGE (a)-[:CONTACT {first_seen:row.first_seen, last_seen:row.last_seen, times:row.times, collection:row.collection}]->(b)\n",
    "    };''')"
   ]
  },
  {
   "cell_type": "code",
   "execution_count": null,
   "id": "a3313eff-b6eb-4da5-a200-a6c92cbed1f4",
   "metadata": {},
   "outputs": [],
   "source": []
  }
 ],
 "metadata": {
  "kernelspec": {
   "display_name": "Python 3 (ipykernel)",
   "language": "python",
   "name": "python3"
  },
  "language_info": {
   "codemirror_mode": {
    "name": "ipython",
    "version": 3
   },
   "file_extension": ".py",
   "mimetype": "text/x-python",
   "name": "python",
   "nbconvert_exporter": "python",
   "pygments_lexer": "ipython3",
   "version": "3.12.5"
  }
 },
 "nbformat": 4,
 "nbformat_minor": 5
}
