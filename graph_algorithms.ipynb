{
 "cells": [
  {
   "cell_type": "code",
   "execution_count": null,
   "id": "f9128b43-13dc-4e09-92dd-27f932faf197",
   "metadata": {},
   "outputs": [],
   "source": [
    "# this notebook contains code for various experimental graph algorithms. The Graph Data Science Library needs to be installed in Neo4j"
   ]
  },
  {
   "cell_type": "code",
   "execution_count": 1,
   "id": "0adba84f-5e4d-4aba-8760-3a503c2d210d",
   "metadata": {},
   "outputs": [],
   "source": [
    "from neo4j import GraphDatabase"
   ]
  },
  {
   "cell_type": "code",
   "execution_count": 2,
   "id": "546b1ba3-729c-4a64-9c60-487296aa6842",
   "metadata": {},
   "outputs": [],
   "source": [
    "import pandas as pd"
   ]
  },
  {
   "cell_type": "code",
   "execution_count": 3,
   "id": "0e3a101a-4e25-4383-a4ba-feedbd466027",
   "metadata": {},
   "outputs": [],
   "source": [
    "uri = \"bolt://localhost:7687\"\n",
    "user = \"neo4j\"\n",
    "password = \"password\""
   ]
  },
  {
   "cell_type": "code",
   "execution_count": 4,
   "id": "370e09e2-8b5a-477b-a30d-810b86ec8355",
   "metadata": {},
   "outputs": [],
   "source": [
    "driver = GraphDatabase.driver(uri, auth=(user, password))"
   ]
  },
  {
   "cell_type": "code",
   "execution_count": 14,
   "id": "c8ec344f-5ebc-4dfb-9530-c0d92da6a9ea",
   "metadata": {},
   "outputs": [],
   "source": [
    "session = driver.session()"
   ]
  },
  {
   "cell_type": "code",
   "execution_count": 15,
   "id": "427c0dd5-9620-4225-b564-9924c69b6fd4",
   "metadata": {},
   "outputs": [
    {
     "data": {
      "text/plain": [
       "<neo4j._sync.work.result.Result at 0x19719cdb350>"
      ]
     },
     "execution_count": 15,
     "metadata": {},
     "output_type": "execute_result"
    }
   ],
   "source": [
    "# find phones that have similar contacts\n",
    "session.run('''\n",
    "MATCH (source:Identifier)\n",
    "OPTIONAL MATCH (source)-[r:CONTACT]->(target:Identifier)\n",
    "RETURN gds.graph.project(\n",
    "  'myGraph3',\n",
    "  source,\n",
    "  target\n",
    ")''')"
   ]
  },
  {
   "cell_type": "code",
   "execution_count": 16,
   "id": "7cec09ed-3bf6-4831-9dce-d591abbdd327",
   "metadata": {},
   "outputs": [],
   "source": [
    "result = session.run('''\n",
    "CALL gds.nodeSimilarity.stream('myGraph3', { degreeCutoff: 3 })\n",
    "YIELD node1, node2, similarity\n",
    "RETURN gds.util.asNode(node1).identifier AS Identifier1, gds.util.asNode(node2).identifier AS Identifier2, similarity\n",
    "ORDER BY similarity DESCENDING, Identifier1, Identifier2''')"
   ]
  },
  {
   "cell_type": "code",
   "execution_count": 17,
   "id": "c3b8c46b-9575-411e-865b-b92f9d92cf09",
   "metadata": {},
   "outputs": [],
   "source": [
    "df1 = pd.DataFrame(result.data())"
   ]
  },
  {
   "cell_type": "code",
   "execution_count": 18,
   "id": "8708d529-f847-4df4-b031-37baa2aa82bd",
   "metadata": {},
   "outputs": [
    {
     "data": {
      "text/html": [
       "<div>\n",
       "<style scoped>\n",
       "    .dataframe tbody tr th:only-of-type {\n",
       "        vertical-align: middle;\n",
       "    }\n",
       "\n",
       "    .dataframe tbody tr th {\n",
       "        vertical-align: top;\n",
       "    }\n",
       "\n",
       "    .dataframe thead th {\n",
       "        text-align: right;\n",
       "    }\n",
       "</style>\n",
       "<table border=\"1\" class=\"dataframe\">\n",
       "  <thead>\n",
       "    <tr style=\"text-align: right;\">\n",
       "      <th></th>\n",
       "      <th>Identifier1</th>\n",
       "      <th>Identifier2</th>\n",
       "      <th>similarity</th>\n",
       "    </tr>\n",
       "  </thead>\n",
       "  <tbody>\n",
       "    <tr>\n",
       "      <th>0</th>\n",
       "      <td>80711433783</td>\n",
       "      <td>80760992565</td>\n",
       "      <td>0.333333</td>\n",
       "    </tr>\n",
       "    <tr>\n",
       "      <th>1</th>\n",
       "      <td>80715294468</td>\n",
       "      <td>80758119448</td>\n",
       "      <td>0.333333</td>\n",
       "    </tr>\n",
       "    <tr>\n",
       "      <th>2</th>\n",
       "      <td>80758119448</td>\n",
       "      <td>80715294468</td>\n",
       "      <td>0.333333</td>\n",
       "    </tr>\n",
       "    <tr>\n",
       "      <th>3</th>\n",
       "      <td>80760992565</td>\n",
       "      <td>80711433783</td>\n",
       "      <td>0.333333</td>\n",
       "    </tr>\n",
       "    <tr>\n",
       "      <th>4</th>\n",
       "      <td>80707338918</td>\n",
       "      <td>80784630103</td>\n",
       "      <td>0.250000</td>\n",
       "    </tr>\n",
       "  </tbody>\n",
       "</table>\n",
       "</div>"
      ],
      "text/plain": [
       "   Identifier1  Identifier2  similarity\n",
       "0  80711433783  80760992565    0.333333\n",
       "1  80715294468  80758119448    0.333333\n",
       "2  80758119448  80715294468    0.333333\n",
       "3  80760992565  80711433783    0.333333\n",
       "4  80707338918  80784630103    0.250000"
      ]
     },
     "execution_count": 18,
     "metadata": {},
     "output_type": "execute_result"
    }
   ],
   "source": [
    "df1.head()"
   ]
  },
  {
   "cell_type": "code",
   "execution_count": null,
   "id": "c74d8c79-e70b-4136-b14a-dedf6d35c9a5",
   "metadata": {},
   "outputs": [],
   "source": []
  }
 ],
 "metadata": {
  "kernelspec": {
   "display_name": "Python 3 (ipykernel)",
   "language": "python",
   "name": "python3"
  },
  "language_info": {
   "codemirror_mode": {
    "name": "ipython",
    "version": 3
   },
   "file_extension": ".py",
   "mimetype": "text/x-python",
   "name": "python",
   "nbconvert_exporter": "python",
   "pygments_lexer": "ipython3",
   "version": "3.12.5"
  }
 },
 "nbformat": 4,
 "nbformat_minor": 5
}
